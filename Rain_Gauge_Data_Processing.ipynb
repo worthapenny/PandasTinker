{
 "cells": [
  {
   "cell_type": "markdown",
   "metadata": {},
   "source": [
    "## Learning Points\n",
    "- Importing multiple CSV files\n",
    " - During import parse columns into **datetime format**\n",
    "- Importing from **SQL Server**\n",
    "- Finding **unique values**\n",
    "- Adding column of datetime type\n",
    "- Getting `diff` on columns, **current row minus nth row**\n",
    "- Adding column based on other columns\n",
    "- **Plotting TimeSeries** data using Seaborn"
   ]
  },
  {
   "cell_type": "markdown",
   "metadata": {},
   "source": [
    "## Basic Imports"
   ]
  },
  {
   "cell_type": "code",
   "execution_count": 2,
   "metadata": {
    "ExecuteTime": {
     "end_time": "2019-04-11T15:13:12.220900Z",
     "start_time": "2019-04-11T15:13:06.671442Z"
    }
   },
   "outputs": [
    {
     "name": "stdout",
     "output_type": "stream",
     "text": [
      "Pixiedust database opened successfully\n"
     ]
    },
    {
     "data": {
      "text/html": [
       "\n",
       "        <div style=\"margin:10px\">\n",
       "            <a href=\"https://github.com/ibm-watson-data-lab/pixiedust\" target=\"_new\">\n",
       "                <img src=\"https://github.com/ibm-watson-data-lab/pixiedust/raw/master/docs/_static/pd_icon32.png\" style=\"float:left;margin-right:10px\"/>\n",
       "            </a>\n",
       "            <span>Pixiedust version 1.1.15</span>\n",
       "        </div>\n",
       "        "
      ],
      "text/plain": [
       "<IPython.core.display.HTML object>"
      ]
     },
     "metadata": {},
     "output_type": "display_data"
    }
   ],
   "source": [
    "import pandas as pd\n",
    "import numpy as np\n",
    "\n",
    "import pixiedust # for debugging"
   ]
  },
  {
   "cell_type": "markdown",
   "metadata": {},
   "source": [
    "## Quick Setup"
   ]
  },
  {
   "cell_type": "code",
   "execution_count": 3,
   "metadata": {
    "ExecuteTime": {
     "end_time": "2019-04-11T15:13:12.232869Z",
     "start_time": "2019-04-11T15:13:12.224910Z"
    }
   },
   "outputs": [],
   "source": [
    "# display all results (not just the last one)\n",
    "from IPython.core.interactiveshell import InteractiveShell\n",
    "InteractiveShell.ast_node_interactivity = \"all\"\n",
    "\n",
    "# For printing with some basic formatting\n",
    "from IPython.display import Markdown, display\n",
    "def printmd(message, style=None, message2=\"\"):\n",
    "    if style:\n",
    "        message = \"<span style='%s'>%s</span> %s\" % (style, message, message2)\n",
    "    display(Markdown(message))\n",
    "\n",
    "# Show the dataframe info\n",
    "def shape_size_info(df):\n",
    "    printmd(\"Shape: \", \"color:blue\", df.shape)\n",
    "    printmd(\"Size: \", \"color:blue\", df.size)"
   ]
  },
  {
   "cell_type": "markdown",
   "metadata": {},
   "source": [
    "## Import multiple CSV files at once"
   ]
  },
  {
   "cell_type": "code",
   "execution_count": 4,
   "metadata": {
    "ExecuteTime": {
     "end_time": "2019-04-11T15:13:12.355541Z",
     "start_time": "2019-04-11T15:13:12.237856Z"
    }
   },
   "outputs": [
    {
     "data": {
      "text/html": [
       "<div>\n",
       "<style scoped>\n",
       "    .dataframe tbody tr th:only-of-type {\n",
       "        vertical-align: middle;\n",
       "    }\n",
       "\n",
       "    .dataframe tbody tr th {\n",
       "        vertical-align: top;\n",
       "    }\n",
       "\n",
       "    .dataframe thead th {\n",
       "        text-align: right;\n",
       "    }\n",
       "</style>\n",
       "<table border=\"1\" class=\"dataframe\">\n",
       "  <thead>\n",
       "    <tr style=\"text-align: right;\">\n",
       "      <th></th>\n",
       "      <th>Tagname</th>\n",
       "      <th>DateTime</th>\n",
       "      <th>TimeZone</th>\n",
       "      <th>Value</th>\n",
       "    </tr>\n",
       "  </thead>\n",
       "  <tbody>\n",
       "    <tr>\n",
       "      <th>0</th>\n",
       "      <td>USGS_RG_225302</td>\n",
       "      <td>2018-03-11 00:00:00</td>\n",
       "      <td>EST</td>\n",
       "      <td>0</td>\n",
       "    </tr>\n",
       "    <tr>\n",
       "      <th>1</th>\n",
       "      <td>USGS_RG_224302</td>\n",
       "      <td>2018-03-11 03:30:00</td>\n",
       "      <td>EDT</td>\n",
       "      <td>4</td>\n",
       "    </tr>\n",
       "    <tr>\n",
       "      <th>2</th>\n",
       "      <td>USGS_RG_225302</td>\n",
       "      <td>2018-03-11 00:30:00</td>\n",
       "      <td>EST</td>\n",
       "      <td>5</td>\n",
       "    </tr>\n",
       "    <tr>\n",
       "      <th>3</th>\n",
       "      <td>USGS_RG_224302</td>\n",
       "      <td>2018-03-11 04:00:00</td>\n",
       "      <td>EDT</td>\n",
       "      <td>7</td>\n",
       "    </tr>\n",
       "    <tr>\n",
       "      <th>4</th>\n",
       "      <td>USGS_RG_225302</td>\n",
       "      <td>2018-03-11 01:00:00</td>\n",
       "      <td>EST</td>\n",
       "      <td>0</td>\n",
       "    </tr>\n",
       "    <tr>\n",
       "      <th>5</th>\n",
       "      <td>USGS_RG_224302</td>\n",
       "      <td>2018-03-11 04:30:00</td>\n",
       "      <td>EDT</td>\n",
       "      <td>2</td>\n",
       "    </tr>\n",
       "    <tr>\n",
       "      <th>6</th>\n",
       "      <td>USGS_RG_225302</td>\n",
       "      <td>2018-03-11 01:30:00</td>\n",
       "      <td>EST</td>\n",
       "      <td>1</td>\n",
       "    </tr>\n",
       "    <tr>\n",
       "      <th>7</th>\n",
       "      <td>USGS_RG_225302</td>\n",
       "      <td>2018-03-11 01:45:00</td>\n",
       "      <td>EST</td>\n",
       "      <td>0</td>\n",
       "    </tr>\n",
       "    <tr>\n",
       "      <th>8</th>\n",
       "      <td>USGS_RG_225302</td>\n",
       "      <td>2018-03-11 04:00:00</td>\n",
       "      <td>EDT</td>\n",
       "      <td>2</td>\n",
       "    </tr>\n",
       "    <tr>\n",
       "      <th>9</th>\n",
       "      <td>USGS_RG_225302</td>\n",
       "      <td>2018-03-11 04:30:00</td>\n",
       "      <td>EDT</td>\n",
       "      <td>3</td>\n",
       "    </tr>\n",
       "    <tr>\n",
       "      <th>10</th>\n",
       "      <td>USGS_RG_225302</td>\n",
       "      <td>2018-03-11 00:15:00</td>\n",
       "      <td>EST</td>\n",
       "      <td>4</td>\n",
       "    </tr>\n",
       "    <tr>\n",
       "      <th>11</th>\n",
       "      <td>USGS_RG_224302</td>\n",
       "      <td>2018-03-11 03:45:00</td>\n",
       "      <td>EDT</td>\n",
       "      <td>6</td>\n",
       "    </tr>\n",
       "    <tr>\n",
       "      <th>12</th>\n",
       "      <td>USGS_RG_225302</td>\n",
       "      <td>2018-03-11 00:45:00</td>\n",
       "      <td>EST</td>\n",
       "      <td>3</td>\n",
       "    </tr>\n",
       "    <tr>\n",
       "      <th>13</th>\n",
       "      <td>USGS_RG_224302</td>\n",
       "      <td>2018-03-11 04:15:00</td>\n",
       "      <td>EDT</td>\n",
       "      <td>1</td>\n",
       "    </tr>\n",
       "    <tr>\n",
       "      <th>14</th>\n",
       "      <td>USGS_RG_225302</td>\n",
       "      <td>2018-03-11 01:15:00</td>\n",
       "      <td>EST</td>\n",
       "      <td>0</td>\n",
       "    </tr>\n",
       "    <tr>\n",
       "      <th>15</th>\n",
       "      <td>USGS_RG_224302</td>\n",
       "      <td>2018-03-11 06:45:00</td>\n",
       "      <td>EDT</td>\n",
       "      <td>3</td>\n",
       "    </tr>\n",
       "    <tr>\n",
       "      <th>16</th>\n",
       "      <td>USGS_RG_224302</td>\n",
       "      <td>2018-03-11 07:00:00</td>\n",
       "      <td>EDT</td>\n",
       "      <td>0</td>\n",
       "    </tr>\n",
       "    <tr>\n",
       "      <th>17</th>\n",
       "      <td>USGS_RG_225302</td>\n",
       "      <td>2018-03-11 05:15:00</td>\n",
       "      <td>EDT</td>\n",
       "      <td>0</td>\n",
       "    </tr>\n",
       "  </tbody>\n",
       "</table>\n",
       "</div>"
      ],
      "text/plain": [
       "           Tagname            DateTime TimeZone  Value\n",
       "0   USGS_RG_225302 2018-03-11 00:00:00      EST      0\n",
       "1   USGS_RG_224302 2018-03-11 03:30:00      EDT      4\n",
       "2   USGS_RG_225302 2018-03-11 00:30:00      EST      5\n",
       "3   USGS_RG_224302 2018-03-11 04:00:00      EDT      7\n",
       "4   USGS_RG_225302 2018-03-11 01:00:00      EST      0\n",
       "5   USGS_RG_224302 2018-03-11 04:30:00      EDT      2\n",
       "6   USGS_RG_225302 2018-03-11 01:30:00      EST      1\n",
       "7   USGS_RG_225302 2018-03-11 01:45:00      EST      0\n",
       "8   USGS_RG_225302 2018-03-11 04:00:00      EDT      2\n",
       "9   USGS_RG_225302 2018-03-11 04:30:00      EDT      3\n",
       "10  USGS_RG_225302 2018-03-11 00:15:00      EST      4\n",
       "11  USGS_RG_224302 2018-03-11 03:45:00      EDT      6\n",
       "12  USGS_RG_225302 2018-03-11 00:45:00      EST      3\n",
       "13  USGS_RG_224302 2018-03-11 04:15:00      EDT      1\n",
       "14  USGS_RG_225302 2018-03-11 01:15:00      EST      0\n",
       "15  USGS_RG_224302 2018-03-11 06:45:00      EDT      3\n",
       "16  USGS_RG_224302 2018-03-11 07:00:00      EDT      0\n",
       "17  USGS_RG_225302 2018-03-11 05:15:00      EDT      0"
      ]
     },
     "execution_count": 4,
     "metadata": {},
     "output_type": "execute_result"
    },
    {
     "name": "stdout",
     "output_type": "stream",
     "text": [
      "csv_data shape:  (18, 4)\n"
     ]
    }
   ],
   "source": [
    "from glob import iglob\n",
    "\n",
    "# For parsing the datetime\n",
    "def dateparse(x): return pd.datetime.strptime(x, '%m/%d/%Y %H:%M')\n",
    "# For date-time: https://docs.python.org/2/library/datetime.html#strftime-and-strptime-behavior\n",
    "\n",
    "\n",
    "def get_data():\n",
    "    path = \"CSVs/*.csv\"\n",
    "    return pd.concat(\n",
    "        (pd.read_csv(f, parse_dates=['DateTime'], date_parser=dateparse) for f in iglob(path, recursive=True)), ignore_index=True)\n",
    "\n",
    "\n",
    "csv_data = get_data()\n",
    "csv_data\n",
    "\n",
    "print('csv_data shape: ', csv_data.shape)"
   ]
  },
  {
   "cell_type": "markdown",
   "metadata": {},
   "source": [
    "### Import data from SQL Server"
   ]
  },
  {
   "cell_type": "code",
   "execution_count": 5,
   "metadata": {
    "ExecuteTime": {
     "end_time": "2019-04-11T15:13:13.751713Z",
     "start_time": "2019-04-11T15:13:12.357532Z"
    },
    "scrolled": true
   },
   "outputs": [
    {
     "data": {
      "text/markdown": [
       "<span style='color:blue;'>Connection String:</span> mssql+pyodbc://@BROOLB8LGPQ2/TestDB?driver=ODBC+DRIVER+13+for+SQL+Server"
      ],
      "text/plain": [
       "<IPython.core.display.Markdown object>"
      ]
     },
     "metadata": {},
     "output_type": "display_data"
    },
    {
     "data": {
      "text/markdown": [
       "<span style='color:green'>Connection was successful!</span> yey!!!"
      ],
      "text/plain": [
       "<IPython.core.display.Markdown object>"
      ]
     },
     "metadata": {},
     "output_type": "display_data"
    },
    {
     "data": {
      "text/markdown": [
       "<span style='color:blue'>Shape: </span> (108282, 5)"
      ],
      "text/plain": [
       "<IPython.core.display.Markdown object>"
      ]
     },
     "metadata": {},
     "output_type": "display_data"
    },
    {
     "data": {
      "text/markdown": [
       "<span style='color:blue'>Size: </span> 541410"
      ],
      "text/plain": [
       "<IPython.core.display.Markdown object>"
      ]
     },
     "metadata": {},
     "output_type": "display_data"
    },
    {
     "data": {
      "text/html": [
       "<div>\n",
       "<style scoped>\n",
       "    .dataframe tbody tr th:only-of-type {\n",
       "        vertical-align: middle;\n",
       "    }\n",
       "\n",
       "    .dataframe tbody tr th {\n",
       "        vertical-align: top;\n",
       "    }\n",
       "\n",
       "    .dataframe thead th {\n",
       "        text-align: right;\n",
       "    }\n",
       "</style>\n",
       "<table border=\"1\" class=\"dataframe\">\n",
       "  <thead>\n",
       "    <tr style=\"text-align: right;\">\n",
       "      <th></th>\n",
       "      <th>Tagname</th>\n",
       "      <th>DateTime</th>\n",
       "      <th>TimeZone</th>\n",
       "      <th>Value</th>\n",
       "      <th>NotSure</th>\n",
       "    </tr>\n",
       "  </thead>\n",
       "  <tbody>\n",
       "    <tr>\n",
       "      <th>0</th>\n",
       "      <td>USGS_RG_253413080225302</td>\n",
       "      <td>2018-03-01 00:00:00</td>\n",
       "      <td>EST</td>\n",
       "      <td>0.0</td>\n",
       "      <td>A</td>\n",
       "    </tr>\n",
       "    <tr>\n",
       "      <th>1</th>\n",
       "      <td>USGS_RG_253413080225302</td>\n",
       "      <td>2018-03-01 00:15:00</td>\n",
       "      <td>EST</td>\n",
       "      <td>0.0</td>\n",
       "      <td>A</td>\n",
       "    </tr>\n",
       "    <tr>\n",
       "      <th>2</th>\n",
       "      <td>USGS_RG_253413080225302</td>\n",
       "      <td>2018-03-01 00:30:00</td>\n",
       "      <td>EST</td>\n",
       "      <td>0.0</td>\n",
       "      <td>A</td>\n",
       "    </tr>\n",
       "    <tr>\n",
       "      <th>3</th>\n",
       "      <td>USGS_RG_253413080225302</td>\n",
       "      <td>2018-03-01 00:45:00</td>\n",
       "      <td>EST</td>\n",
       "      <td>0.0</td>\n",
       "      <td>A</td>\n",
       "    </tr>\n",
       "    <tr>\n",
       "      <th>4</th>\n",
       "      <td>USGS_RG_253413080225302</td>\n",
       "      <td>2018-03-01 01:00:00</td>\n",
       "      <td>EST</td>\n",
       "      <td>0.0</td>\n",
       "      <td>A</td>\n",
       "    </tr>\n",
       "  </tbody>\n",
       "</table>\n",
       "</div>"
      ],
      "text/plain": [
       "                   Tagname            DateTime TimeZone  Value NotSure\n",
       "0  USGS_RG_253413080225302 2018-03-01 00:00:00      EST    0.0       A\n",
       "1  USGS_RG_253413080225302 2018-03-01 00:15:00      EST    0.0       A\n",
       "2  USGS_RG_253413080225302 2018-03-01 00:30:00      EST    0.0       A\n",
       "3  USGS_RG_253413080225302 2018-03-01 00:45:00      EST    0.0       A\n",
       "4  USGS_RG_253413080225302 2018-03-01 01:00:00      EST    0.0       A"
      ]
     },
     "execution_count": 5,
     "metadata": {},
     "output_type": "execute_result"
    }
   ],
   "source": [
    "import sqlalchemy \n",
    "\n",
    "server_name = 'BROOLB8LGPQ2'\n",
    "db_name = 'TestDB'\n",
    "username = 'sa'\n",
    "password = 'My-Safe-Password'\n",
    "win_auth = True\n",
    "\n",
    "driver = 'ODBC+DRIVER+13+for+SQL+Server'\n",
    "\n",
    "if win_auth:\n",
    "    engine_stmt = \"mssql+pyodbc://@%s/%s?driver=%s\" % (server_name, db_name, driver )\n",
    "else:\n",
    "    engine_stmt = \"mssql+pyodbc://%s:%s@%s/%s?driver=%s\" % (username, password, server_name, db_name, driver )\n",
    "\n",
    "printmd(\"Connection String:\", \"color:blue;\", engine_stmt)\n",
    "\n",
    "connection = None\n",
    "try:\n",
    "    engine = sqlalchemy.create_engine(engine_stmt)\n",
    "    connection = engine.connect()\n",
    "    printmd(\"Connection was successful!\", \"color:green\", \"yey!!!\")\n",
    "except Exception as ex:\n",
    "    printmd(\"Connection failed!\", \"color:red\", \"what?\")\n",
    "    print(\"Exception occured: \\n\", ex)\n",
    "\n",
    "if connection:\n",
    "    data = pd.read_sql_table(\"RainGauge_TS\", connection, parse_dates=['DateTime'])\n",
    "    connection.close()\n",
    "    \n",
    "csv_data = data\n",
    "shape_size_info(csv_data)\n",
    "csv_data.head()\n"
   ]
  },
  {
   "cell_type": "markdown",
   "metadata": {},
   "source": [
    "## Find unique Tagname"
   ]
  },
  {
   "cell_type": "code",
   "execution_count": 6,
   "metadata": {
    "ExecuteTime": {
     "end_time": "2019-04-11T15:13:13.767669Z",
     "start_time": "2019-04-11T15:13:13.753733Z"
    }
   },
   "outputs": [
    {
     "name": "stdout",
     "output_type": "stream",
     "text": [
      "Unique Tags are:\n",
      "['USGS_RG_253413080225302' 'USGS_RG_253417080224302']\n"
     ]
    }
   ],
   "source": [
    "tags = csv_data['Tagname'].unique()\n",
    "print('Unique Tags are:')\n",
    "print(tags)"
   ]
  },
  {
   "cell_type": "markdown",
   "metadata": {},
   "source": [
    "## Add new Column 'DateTimeEST' of DateTime type"
   ]
  },
  {
   "cell_type": "code",
   "execution_count": 7,
   "metadata": {
    "ExecuteTime": {
     "end_time": "2019-04-11T15:13:13.798263Z",
     "start_time": "2019-04-11T15:13:13.769665Z"
    }
   },
   "outputs": [
    {
     "data": {
      "text/html": [
       "<div>\n",
       "<style scoped>\n",
       "    .dataframe tbody tr th:only-of-type {\n",
       "        vertical-align: middle;\n",
       "    }\n",
       "\n",
       "    .dataframe tbody tr th {\n",
       "        vertical-align: top;\n",
       "    }\n",
       "\n",
       "    .dataframe thead th {\n",
       "        text-align: right;\n",
       "    }\n",
       "</style>\n",
       "<table border=\"1\" class=\"dataframe\">\n",
       "  <thead>\n",
       "    <tr style=\"text-align: right;\">\n",
       "      <th></th>\n",
       "      <th>Tagname</th>\n",
       "      <th>DateTime</th>\n",
       "      <th>TimeZone</th>\n",
       "      <th>Value</th>\n",
       "      <th>NotSure</th>\n",
       "      <th>DateTimeEST</th>\n",
       "    </tr>\n",
       "  </thead>\n",
       "  <tbody>\n",
       "    <tr>\n",
       "      <th>0</th>\n",
       "      <td>USGS_RG_253413080225302</td>\n",
       "      <td>2018-03-01 00:00:00</td>\n",
       "      <td>EST</td>\n",
       "      <td>0.0</td>\n",
       "      <td>A</td>\n",
       "      <td>NaT</td>\n",
       "    </tr>\n",
       "    <tr>\n",
       "      <th>1</th>\n",
       "      <td>USGS_RG_253413080225302</td>\n",
       "      <td>2018-03-01 00:15:00</td>\n",
       "      <td>EST</td>\n",
       "      <td>0.0</td>\n",
       "      <td>A</td>\n",
       "      <td>NaT</td>\n",
       "    </tr>\n",
       "    <tr>\n",
       "      <th>2</th>\n",
       "      <td>USGS_RG_253413080225302</td>\n",
       "      <td>2018-03-01 00:30:00</td>\n",
       "      <td>EST</td>\n",
       "      <td>0.0</td>\n",
       "      <td>A</td>\n",
       "      <td>NaT</td>\n",
       "    </tr>\n",
       "    <tr>\n",
       "      <th>3</th>\n",
       "      <td>USGS_RG_253413080225302</td>\n",
       "      <td>2018-03-01 00:45:00</td>\n",
       "      <td>EST</td>\n",
       "      <td>0.0</td>\n",
       "      <td>A</td>\n",
       "      <td>NaT</td>\n",
       "    </tr>\n",
       "    <tr>\n",
       "      <th>4</th>\n",
       "      <td>USGS_RG_253413080225302</td>\n",
       "      <td>2018-03-01 01:00:00</td>\n",
       "      <td>EST</td>\n",
       "      <td>0.0</td>\n",
       "      <td>A</td>\n",
       "      <td>NaT</td>\n",
       "    </tr>\n",
       "  </tbody>\n",
       "</table>\n",
       "</div>"
      ],
      "text/plain": [
       "                   Tagname            DateTime TimeZone  Value NotSure  \\\n",
       "0  USGS_RG_253413080225302 2018-03-01 00:00:00      EST    0.0       A   \n",
       "1  USGS_RG_253413080225302 2018-03-01 00:15:00      EST    0.0       A   \n",
       "2  USGS_RG_253413080225302 2018-03-01 00:30:00      EST    0.0       A   \n",
       "3  USGS_RG_253413080225302 2018-03-01 00:45:00      EST    0.0       A   \n",
       "4  USGS_RG_253413080225302 2018-03-01 01:00:00      EST    0.0       A   \n",
       "\n",
       "  DateTimeEST  \n",
       "0         NaT  \n",
       "1         NaT  \n",
       "2         NaT  \n",
       "3         NaT  \n",
       "4         NaT  "
      ]
     },
     "execution_count": 7,
     "metadata": {},
     "output_type": "execute_result"
    },
    {
     "data": {
      "text/plain": [
       "Tagname                object\n",
       "DateTime       datetime64[ns]\n",
       "TimeZone               object\n",
       "Value                 float64\n",
       "NotSure                object\n",
       "DateTimeEST    datetime64[ns]\n",
       "dtype: object"
      ]
     },
     "execution_count": 7,
     "metadata": {},
     "output_type": "execute_result"
    }
   ],
   "source": [
    "# Make sure to assign a datetime type\n",
    "csv_data['DateTimeEST'] = np.datetime64('NaT')\n",
    "csv_data.head()\n",
    "\n",
    "csv_data.dtypes"
   ]
  },
  {
   "cell_type": "markdown",
   "metadata": {},
   "source": [
    "### Update DateTimeEST based on 'TimeZone'"
   ]
  },
  {
   "cell_type": "code",
   "execution_count": 8,
   "metadata": {
    "ExecuteTime": {
     "end_time": "2019-04-11T15:13:13.848249Z",
     "start_time": "2019-04-11T15:13:13.798263Z"
    }
   },
   "outputs": [
    {
     "data": {
      "text/html": [
       "<div>\n",
       "<style scoped>\n",
       "    .dataframe tbody tr th:only-of-type {\n",
       "        vertical-align: middle;\n",
       "    }\n",
       "\n",
       "    .dataframe tbody tr th {\n",
       "        vertical-align: top;\n",
       "    }\n",
       "\n",
       "    .dataframe thead th {\n",
       "        text-align: right;\n",
       "    }\n",
       "</style>\n",
       "<table border=\"1\" class=\"dataframe\">\n",
       "  <thead>\n",
       "    <tr style=\"text-align: right;\">\n",
       "      <th></th>\n",
       "      <th>Tagname</th>\n",
       "      <th>DateTime</th>\n",
       "      <th>TimeZone</th>\n",
       "      <th>Value</th>\n",
       "      <th>NotSure</th>\n",
       "      <th>DateTimeEST</th>\n",
       "    </tr>\n",
       "  </thead>\n",
       "  <tbody>\n",
       "    <tr>\n",
       "      <th>0</th>\n",
       "      <td>USGS_RG_253413080225302</td>\n",
       "      <td>2018-03-01 00:00:00</td>\n",
       "      <td>EST</td>\n",
       "      <td>0.0</td>\n",
       "      <td>A</td>\n",
       "      <td>2018-03-01 00:00:00</td>\n",
       "    </tr>\n",
       "    <tr>\n",
       "      <th>1</th>\n",
       "      <td>USGS_RG_253413080225302</td>\n",
       "      <td>2018-03-01 00:15:00</td>\n",
       "      <td>EST</td>\n",
       "      <td>0.0</td>\n",
       "      <td>A</td>\n",
       "      <td>2018-03-01 00:15:00</td>\n",
       "    </tr>\n",
       "    <tr>\n",
       "      <th>2</th>\n",
       "      <td>USGS_RG_253413080225302</td>\n",
       "      <td>2018-03-01 00:30:00</td>\n",
       "      <td>EST</td>\n",
       "      <td>0.0</td>\n",
       "      <td>A</td>\n",
       "      <td>2018-03-01 00:30:00</td>\n",
       "    </tr>\n",
       "    <tr>\n",
       "      <th>3</th>\n",
       "      <td>USGS_RG_253413080225302</td>\n",
       "      <td>2018-03-01 00:45:00</td>\n",
       "      <td>EST</td>\n",
       "      <td>0.0</td>\n",
       "      <td>A</td>\n",
       "      <td>2018-03-01 00:45:00</td>\n",
       "    </tr>\n",
       "    <tr>\n",
       "      <th>4</th>\n",
       "      <td>USGS_RG_253413080225302</td>\n",
       "      <td>2018-03-01 01:00:00</td>\n",
       "      <td>EST</td>\n",
       "      <td>0.0</td>\n",
       "      <td>A</td>\n",
       "      <td>2018-03-01 01:00:00</td>\n",
       "    </tr>\n",
       "  </tbody>\n",
       "</table>\n",
       "</div>"
      ],
      "text/plain": [
       "                   Tagname            DateTime TimeZone  Value NotSure  \\\n",
       "0  USGS_RG_253413080225302 2018-03-01 00:00:00      EST    0.0       A   \n",
       "1  USGS_RG_253413080225302 2018-03-01 00:15:00      EST    0.0       A   \n",
       "2  USGS_RG_253413080225302 2018-03-01 00:30:00      EST    0.0       A   \n",
       "3  USGS_RG_253413080225302 2018-03-01 00:45:00      EST    0.0       A   \n",
       "4  USGS_RG_253413080225302 2018-03-01 01:00:00      EST    0.0       A   \n",
       "\n",
       "          DateTimeEST  \n",
       "0 2018-03-01 00:00:00  \n",
       "1 2018-03-01 00:15:00  \n",
       "2 2018-03-01 00:30:00  \n",
       "3 2018-03-01 00:45:00  \n",
       "4 2018-03-01 01:00:00  "
      ]
     },
     "execution_count": 8,
     "metadata": {},
     "output_type": "execute_result"
    }
   ],
   "source": [
    "csv_data.loc[csv_data['TimeZone'] == 'EST',\n",
    "             'DateTimeEST'] = csv_data['DateTime']\n",
    "csv_data.loc[csv_data['TimeZone'] == 'EDT',\n",
    "             'DateTimeEST'] = csv_data['DateTime'] + pd.DateOffset(hours=1)\n",
    "\n",
    "csv_data.head()"
   ]
  },
  {
   "cell_type": "markdown",
   "metadata": {},
   "source": [
    "## Get delta time (Current row - Previous Row)"
   ]
  },
  {
   "cell_type": "code",
   "execution_count": 9,
   "metadata": {
    "ExecuteTime": {
     "end_time": "2019-04-11T15:13:14.155087Z",
     "start_time": "2019-04-11T15:13:13.851243Z"
    }
   },
   "outputs": [
    {
     "data": {
      "text/html": [
       "<div>\n",
       "<style scoped>\n",
       "    .dataframe tbody tr th:only-of-type {\n",
       "        vertical-align: middle;\n",
       "    }\n",
       "\n",
       "    .dataframe tbody tr th {\n",
       "        vertical-align: top;\n",
       "    }\n",
       "\n",
       "    .dataframe thead th {\n",
       "        text-align: right;\n",
       "    }\n",
       "</style>\n",
       "<table border=\"1\" class=\"dataframe\">\n",
       "  <thead>\n",
       "    <tr style=\"text-align: right;\">\n",
       "      <th></th>\n",
       "      <th>Tagname</th>\n",
       "      <th>DateTime</th>\n",
       "      <th>TimeZone</th>\n",
       "      <th>Value</th>\n",
       "      <th>NotSure</th>\n",
       "      <th>DateTimeEST</th>\n",
       "      <th>DeltaTime</th>\n",
       "    </tr>\n",
       "  </thead>\n",
       "  <tbody>\n",
       "    <tr>\n",
       "      <th>0</th>\n",
       "      <td>USGS_RG_253413080225302</td>\n",
       "      <td>2018-03-01 00:00:00</td>\n",
       "      <td>EST</td>\n",
       "      <td>0.0</td>\n",
       "      <td>A</td>\n",
       "      <td>2018-03-01 00:00:00</td>\n",
       "      <td>NaN</td>\n",
       "    </tr>\n",
       "    <tr>\n",
       "      <th>1</th>\n",
       "      <td>USGS_RG_253413080225302</td>\n",
       "      <td>2018-03-01 00:15:00</td>\n",
       "      <td>EST</td>\n",
       "      <td>0.0</td>\n",
       "      <td>A</td>\n",
       "      <td>2018-03-01 00:15:00</td>\n",
       "      <td>15.0</td>\n",
       "    </tr>\n",
       "    <tr>\n",
       "      <th>2</th>\n",
       "      <td>USGS_RG_253413080225302</td>\n",
       "      <td>2018-03-01 00:30:00</td>\n",
       "      <td>EST</td>\n",
       "      <td>0.0</td>\n",
       "      <td>A</td>\n",
       "      <td>2018-03-01 00:30:00</td>\n",
       "      <td>15.0</td>\n",
       "    </tr>\n",
       "    <tr>\n",
       "      <th>3</th>\n",
       "      <td>USGS_RG_253413080225302</td>\n",
       "      <td>2018-03-01 00:45:00</td>\n",
       "      <td>EST</td>\n",
       "      <td>0.0</td>\n",
       "      <td>A</td>\n",
       "      <td>2018-03-01 00:45:00</td>\n",
       "      <td>15.0</td>\n",
       "    </tr>\n",
       "    <tr>\n",
       "      <th>4</th>\n",
       "      <td>USGS_RG_253413080225302</td>\n",
       "      <td>2018-03-01 01:00:00</td>\n",
       "      <td>EST</td>\n",
       "      <td>0.0</td>\n",
       "      <td>A</td>\n",
       "      <td>2018-03-01 01:00:00</td>\n",
       "      <td>15.0</td>\n",
       "    </tr>\n",
       "    <tr>\n",
       "      <th>5</th>\n",
       "      <td>USGS_RG_253413080225302</td>\n",
       "      <td>2018-03-01 01:15:00</td>\n",
       "      <td>EST</td>\n",
       "      <td>0.0</td>\n",
       "      <td>A</td>\n",
       "      <td>2018-03-01 01:15:00</td>\n",
       "      <td>15.0</td>\n",
       "    </tr>\n",
       "    <tr>\n",
       "      <th>6</th>\n",
       "      <td>USGS_RG_253413080225302</td>\n",
       "      <td>2018-03-01 01:30:00</td>\n",
       "      <td>EST</td>\n",
       "      <td>0.0</td>\n",
       "      <td>A</td>\n",
       "      <td>2018-03-01 01:30:00</td>\n",
       "      <td>15.0</td>\n",
       "    </tr>\n",
       "    <tr>\n",
       "      <th>7</th>\n",
       "      <td>USGS_RG_253413080225302</td>\n",
       "      <td>2018-03-01 01:45:00</td>\n",
       "      <td>EST</td>\n",
       "      <td>0.0</td>\n",
       "      <td>A</td>\n",
       "      <td>2018-03-01 01:45:00</td>\n",
       "      <td>15.0</td>\n",
       "    </tr>\n",
       "    <tr>\n",
       "      <th>8</th>\n",
       "      <td>USGS_RG_253413080225302</td>\n",
       "      <td>2018-03-01 02:00:00</td>\n",
       "      <td>EST</td>\n",
       "      <td>0.0</td>\n",
       "      <td>A</td>\n",
       "      <td>2018-03-01 02:00:00</td>\n",
       "      <td>15.0</td>\n",
       "    </tr>\n",
       "    <tr>\n",
       "      <th>9</th>\n",
       "      <td>USGS_RG_253413080225302</td>\n",
       "      <td>2018-03-01 02:15:00</td>\n",
       "      <td>EST</td>\n",
       "      <td>0.0</td>\n",
       "      <td>A</td>\n",
       "      <td>2018-03-01 02:15:00</td>\n",
       "      <td>15.0</td>\n",
       "    </tr>\n",
       "  </tbody>\n",
       "</table>\n",
       "</div>"
      ],
      "text/plain": [
       "                   Tagname            DateTime TimeZone  Value NotSure  \\\n",
       "0  USGS_RG_253413080225302 2018-03-01 00:00:00      EST    0.0       A   \n",
       "1  USGS_RG_253413080225302 2018-03-01 00:15:00      EST    0.0       A   \n",
       "2  USGS_RG_253413080225302 2018-03-01 00:30:00      EST    0.0       A   \n",
       "3  USGS_RG_253413080225302 2018-03-01 00:45:00      EST    0.0       A   \n",
       "4  USGS_RG_253413080225302 2018-03-01 01:00:00      EST    0.0       A   \n",
       "5  USGS_RG_253413080225302 2018-03-01 01:15:00      EST    0.0       A   \n",
       "6  USGS_RG_253413080225302 2018-03-01 01:30:00      EST    0.0       A   \n",
       "7  USGS_RG_253413080225302 2018-03-01 01:45:00      EST    0.0       A   \n",
       "8  USGS_RG_253413080225302 2018-03-01 02:00:00      EST    0.0       A   \n",
       "9  USGS_RG_253413080225302 2018-03-01 02:15:00      EST    0.0       A   \n",
       "\n",
       "          DateTimeEST  DeltaTime  \n",
       "0 2018-03-01 00:00:00        NaN  \n",
       "1 2018-03-01 00:15:00       15.0  \n",
       "2 2018-03-01 00:30:00       15.0  \n",
       "3 2018-03-01 00:45:00       15.0  \n",
       "4 2018-03-01 01:00:00       15.0  \n",
       "5 2018-03-01 01:15:00       15.0  \n",
       "6 2018-03-01 01:30:00       15.0  \n",
       "7 2018-03-01 01:45:00       15.0  \n",
       "8 2018-03-01 02:00:00       15.0  \n",
       "9 2018-03-01 02:15:00       15.0  "
      ]
     },
     "execution_count": 9,
     "metadata": {},
     "output_type": "execute_result"
    },
    {
     "data": {
      "text/html": [
       "<div>\n",
       "<style scoped>\n",
       "    .dataframe tbody tr th:only-of-type {\n",
       "        vertical-align: middle;\n",
       "    }\n",
       "\n",
       "    .dataframe tbody tr th {\n",
       "        vertical-align: top;\n",
       "    }\n",
       "\n",
       "    .dataframe thead th {\n",
       "        text-align: right;\n",
       "    }\n",
       "</style>\n",
       "<table border=\"1\" class=\"dataframe\">\n",
       "  <thead>\n",
       "    <tr style=\"text-align: right;\">\n",
       "      <th></th>\n",
       "      <th>Tagname</th>\n",
       "      <th>DateTime</th>\n",
       "      <th>TimeZone</th>\n",
       "      <th>Value</th>\n",
       "      <th>NotSure</th>\n",
       "      <th>DateTimeEST</th>\n",
       "      <th>DeltaTime</th>\n",
       "    </tr>\n",
       "  </thead>\n",
       "  <tbody>\n",
       "    <tr>\n",
       "      <th>108272</th>\n",
       "      <td>USGS_RG_253417080224302</td>\n",
       "      <td>2019-03-01 21:30:00</td>\n",
       "      <td>EST</td>\n",
       "      <td>0.0</td>\n",
       "      <td>P</td>\n",
       "      <td>2019-03-01 21:30:00</td>\n",
       "      <td>15.0</td>\n",
       "    </tr>\n",
       "    <tr>\n",
       "      <th>108273</th>\n",
       "      <td>USGS_RG_253417080224302</td>\n",
       "      <td>2019-03-01 21:45:00</td>\n",
       "      <td>EST</td>\n",
       "      <td>0.0</td>\n",
       "      <td>P</td>\n",
       "      <td>2019-03-01 21:45:00</td>\n",
       "      <td>15.0</td>\n",
       "    </tr>\n",
       "    <tr>\n",
       "      <th>108274</th>\n",
       "      <td>USGS_RG_253417080224302</td>\n",
       "      <td>2019-03-01 22:00:00</td>\n",
       "      <td>EST</td>\n",
       "      <td>0.0</td>\n",
       "      <td>P</td>\n",
       "      <td>2019-03-01 22:00:00</td>\n",
       "      <td>15.0</td>\n",
       "    </tr>\n",
       "    <tr>\n",
       "      <th>108275</th>\n",
       "      <td>USGS_RG_253417080224302</td>\n",
       "      <td>2019-03-01 22:15:00</td>\n",
       "      <td>EST</td>\n",
       "      <td>0.0</td>\n",
       "      <td>P</td>\n",
       "      <td>2019-03-01 22:15:00</td>\n",
       "      <td>15.0</td>\n",
       "    </tr>\n",
       "    <tr>\n",
       "      <th>108276</th>\n",
       "      <td>USGS_RG_253417080224302</td>\n",
       "      <td>2019-03-01 22:30:00</td>\n",
       "      <td>EST</td>\n",
       "      <td>0.0</td>\n",
       "      <td>P</td>\n",
       "      <td>2019-03-01 22:30:00</td>\n",
       "      <td>15.0</td>\n",
       "    </tr>\n",
       "    <tr>\n",
       "      <th>108277</th>\n",
       "      <td>USGS_RG_253417080224302</td>\n",
       "      <td>2019-03-01 22:45:00</td>\n",
       "      <td>EST</td>\n",
       "      <td>0.0</td>\n",
       "      <td>P</td>\n",
       "      <td>2019-03-01 22:45:00</td>\n",
       "      <td>15.0</td>\n",
       "    </tr>\n",
       "    <tr>\n",
       "      <th>108278</th>\n",
       "      <td>USGS_RG_253417080224302</td>\n",
       "      <td>2019-03-01 23:00:00</td>\n",
       "      <td>EST</td>\n",
       "      <td>0.0</td>\n",
       "      <td>P</td>\n",
       "      <td>2019-03-01 23:00:00</td>\n",
       "      <td>15.0</td>\n",
       "    </tr>\n",
       "    <tr>\n",
       "      <th>108279</th>\n",
       "      <td>USGS_RG_253417080224302</td>\n",
       "      <td>2019-03-01 23:15:00</td>\n",
       "      <td>EST</td>\n",
       "      <td>0.0</td>\n",
       "      <td>P</td>\n",
       "      <td>2019-03-01 23:15:00</td>\n",
       "      <td>15.0</td>\n",
       "    </tr>\n",
       "    <tr>\n",
       "      <th>108280</th>\n",
       "      <td>USGS_RG_253417080224302</td>\n",
       "      <td>2019-03-01 23:30:00</td>\n",
       "      <td>EST</td>\n",
       "      <td>0.0</td>\n",
       "      <td>P</td>\n",
       "      <td>2019-03-01 23:30:00</td>\n",
       "      <td>15.0</td>\n",
       "    </tr>\n",
       "    <tr>\n",
       "      <th>108281</th>\n",
       "      <td>USGS_RG_253417080224302</td>\n",
       "      <td>2019-03-01 23:45:00</td>\n",
       "      <td>EST</td>\n",
       "      <td>0.0</td>\n",
       "      <td>P</td>\n",
       "      <td>2019-03-01 23:45:00</td>\n",
       "      <td>15.0</td>\n",
       "    </tr>\n",
       "  </tbody>\n",
       "</table>\n",
       "</div>"
      ],
      "text/plain": [
       "                        Tagname            DateTime TimeZone  Value NotSure  \\\n",
       "108272  USGS_RG_253417080224302 2019-03-01 21:30:00      EST    0.0       P   \n",
       "108273  USGS_RG_253417080224302 2019-03-01 21:45:00      EST    0.0       P   \n",
       "108274  USGS_RG_253417080224302 2019-03-01 22:00:00      EST    0.0       P   \n",
       "108275  USGS_RG_253417080224302 2019-03-01 22:15:00      EST    0.0       P   \n",
       "108276  USGS_RG_253417080224302 2019-03-01 22:30:00      EST    0.0       P   \n",
       "108277  USGS_RG_253417080224302 2019-03-01 22:45:00      EST    0.0       P   \n",
       "108278  USGS_RG_253417080224302 2019-03-01 23:00:00      EST    0.0       P   \n",
       "108279  USGS_RG_253417080224302 2019-03-01 23:15:00      EST    0.0       P   \n",
       "108280  USGS_RG_253417080224302 2019-03-01 23:30:00      EST    0.0       P   \n",
       "108281  USGS_RG_253417080224302 2019-03-01 23:45:00      EST    0.0       P   \n",
       "\n",
       "               DateTimeEST  DeltaTime  \n",
       "108272 2019-03-01 21:30:00       15.0  \n",
       "108273 2019-03-01 21:45:00       15.0  \n",
       "108274 2019-03-01 22:00:00       15.0  \n",
       "108275 2019-03-01 22:15:00       15.0  \n",
       "108276 2019-03-01 22:30:00       15.0  \n",
       "108277 2019-03-01 22:45:00       15.0  \n",
       "108278 2019-03-01 23:00:00       15.0  \n",
       "108279 2019-03-01 23:15:00       15.0  \n",
       "108280 2019-03-01 23:30:00       15.0  \n",
       "108281 2019-03-01 23:45:00       15.0  "
      ]
     },
     "execution_count": 9,
     "metadata": {},
     "output_type": "execute_result"
    }
   ],
   "source": [
    "# DataFrame.diff with periods = 1 allows to look back 1 row\n",
    "# diff(periods=1) is same as lag in SQL Server\n",
    "\n",
    "for tag in tags:\n",
    "    delta_time = csv_data.where(csv_data['Tagname']==tag)['DateTimeEST'].diff(periods=1)\n",
    "    delta_time /=  np.timedelta64(1, 'm')\n",
    "    csv_data.loc[csv_data['Tagname']==tag, 'DeltaTime'] = delta_time\n",
    "    \n",
    "csv_data.head(10)\n",
    "csv_data.tail(10)"
   ]
  },
  {
   "cell_type": "markdown",
   "metadata": {},
   "source": [
    "## Add column to get Intensity"
   ]
  },
  {
   "cell_type": "code",
   "execution_count": 10,
   "metadata": {
    "ExecuteTime": {
     "end_time": "2019-04-11T15:13:14.382479Z",
     "start_time": "2019-04-11T15:13:14.157087Z"
    }
   },
   "outputs": [
    {
     "data": {
      "text/html": [
       "<div>\n",
       "<style scoped>\n",
       "    .dataframe tbody tr th:only-of-type {\n",
       "        vertical-align: middle;\n",
       "    }\n",
       "\n",
       "    .dataframe tbody tr th {\n",
       "        vertical-align: top;\n",
       "    }\n",
       "\n",
       "    .dataframe thead th {\n",
       "        text-align: right;\n",
       "    }\n",
       "</style>\n",
       "<table border=\"1\" class=\"dataframe\">\n",
       "  <thead>\n",
       "    <tr style=\"text-align: right;\">\n",
       "      <th></th>\n",
       "      <th>Tagname</th>\n",
       "      <th>DateTime</th>\n",
       "      <th>TimeZone</th>\n",
       "      <th>Value</th>\n",
       "      <th>NotSure</th>\n",
       "      <th>DateTimeEST</th>\n",
       "      <th>DeltaTime</th>\n",
       "      <th>Intensity</th>\n",
       "    </tr>\n",
       "  </thead>\n",
       "  <tbody>\n",
       "    <tr>\n",
       "      <th>0</th>\n",
       "      <td>USGS_RG_253413080225302</td>\n",
       "      <td>2018-03-01 00:00:00</td>\n",
       "      <td>EST</td>\n",
       "      <td>0.0</td>\n",
       "      <td>A</td>\n",
       "      <td>2018-03-01 00:00:00</td>\n",
       "      <td>NaN</td>\n",
       "      <td>NaN</td>\n",
       "    </tr>\n",
       "    <tr>\n",
       "      <th>1</th>\n",
       "      <td>USGS_RG_253413080225302</td>\n",
       "      <td>2018-03-01 00:15:00</td>\n",
       "      <td>EST</td>\n",
       "      <td>0.0</td>\n",
       "      <td>A</td>\n",
       "      <td>2018-03-01 00:15:00</td>\n",
       "      <td>15.0</td>\n",
       "      <td>0.0</td>\n",
       "    </tr>\n",
       "    <tr>\n",
       "      <th>2</th>\n",
       "      <td>USGS_RG_253413080225302</td>\n",
       "      <td>2018-03-01 00:30:00</td>\n",
       "      <td>EST</td>\n",
       "      <td>0.0</td>\n",
       "      <td>A</td>\n",
       "      <td>2018-03-01 00:30:00</td>\n",
       "      <td>15.0</td>\n",
       "      <td>0.0</td>\n",
       "    </tr>\n",
       "    <tr>\n",
       "      <th>3</th>\n",
       "      <td>USGS_RG_253413080225302</td>\n",
       "      <td>2018-03-01 00:45:00</td>\n",
       "      <td>EST</td>\n",
       "      <td>0.0</td>\n",
       "      <td>A</td>\n",
       "      <td>2018-03-01 00:45:00</td>\n",
       "      <td>15.0</td>\n",
       "      <td>0.0</td>\n",
       "    </tr>\n",
       "    <tr>\n",
       "      <th>4</th>\n",
       "      <td>USGS_RG_253413080225302</td>\n",
       "      <td>2018-03-01 01:00:00</td>\n",
       "      <td>EST</td>\n",
       "      <td>0.0</td>\n",
       "      <td>A</td>\n",
       "      <td>2018-03-01 01:00:00</td>\n",
       "      <td>15.0</td>\n",
       "      <td>0.0</td>\n",
       "    </tr>\n",
       "  </tbody>\n",
       "</table>\n",
       "</div>"
      ],
      "text/plain": [
       "                   Tagname            DateTime TimeZone  Value NotSure  \\\n",
       "0  USGS_RG_253413080225302 2018-03-01 00:00:00      EST    0.0       A   \n",
       "1  USGS_RG_253413080225302 2018-03-01 00:15:00      EST    0.0       A   \n",
       "2  USGS_RG_253413080225302 2018-03-01 00:30:00      EST    0.0       A   \n",
       "3  USGS_RG_253413080225302 2018-03-01 00:45:00      EST    0.0       A   \n",
       "4  USGS_RG_253413080225302 2018-03-01 01:00:00      EST    0.0       A   \n",
       "\n",
       "          DateTimeEST  DeltaTime  Intensity  \n",
       "0 2018-03-01 00:00:00        NaN        NaN  \n",
       "1 2018-03-01 00:15:00       15.0        0.0  \n",
       "2 2018-03-01 00:30:00       15.0        0.0  \n",
       "3 2018-03-01 00:45:00       15.0        0.0  \n",
       "4 2018-03-01 01:00:00       15.0        0.0  "
      ]
     },
     "execution_count": 10,
     "metadata": {},
     "output_type": "execute_result"
    }
   ],
   "source": [
    "csv_data[\"Intensity\"] = csv_data['Value'] * 60 / csv_data['DeltaTime']\n",
    "csv_data.head()"
   ]
  },
  {
   "cell_type": "markdown",
   "metadata": {},
   "source": [
    "## Remove rows that has insignificant value"
   ]
  },
  {
   "cell_type": "code",
   "execution_count": 11,
   "metadata": {
    "ExecuteTime": {
     "end_time": "2019-04-11T15:13:14.399435Z",
     "start_time": "2019-04-11T15:13:14.384476Z"
    }
   },
   "outputs": [
    {
     "data": {
      "text/markdown": [
       "<span style='color:magenta'>Original CSV:</span> "
      ],
      "text/plain": [
       "<IPython.core.display.Markdown object>"
      ]
     },
     "metadata": {},
     "output_type": "display_data"
    },
    {
     "data": {
      "text/markdown": [
       "<span style='color:blue'>Shape: </span> (108282, 8)"
      ],
      "text/plain": [
       "<IPython.core.display.Markdown object>"
      ]
     },
     "metadata": {},
     "output_type": "display_data"
    },
    {
     "data": {
      "text/markdown": [
       "<span style='color:blue'>Size: </span> 866256"
      ],
      "text/plain": [
       "<IPython.core.display.Markdown object>"
      ]
     },
     "metadata": {},
     "output_type": "display_data"
    },
    {
     "data": {
      "text/markdown": [
       "<span style='color:magenta'>Filtered CSV to Intensity > 0:</span> "
      ],
      "text/plain": [
       "<IPython.core.display.Markdown object>"
      ]
     },
     "metadata": {},
     "output_type": "display_data"
    },
    {
     "data": {
      "text/markdown": [
       "<span style='color:blue'>Shape: </span> (1794, 8)"
      ],
      "text/plain": [
       "<IPython.core.display.Markdown object>"
      ]
     },
     "metadata": {},
     "output_type": "display_data"
    },
    {
     "data": {
      "text/markdown": [
       "<span style='color:blue'>Size: </span> 14352"
      ],
      "text/plain": [
       "<IPython.core.display.Markdown object>"
      ]
     },
     "metadata": {},
     "output_type": "display_data"
    }
   ],
   "source": [
    "csv_data_mini = csv_data[csv_data['Value'] != 0]\n",
    "\n",
    "printmd(\"Original CSV:\", 'color:magenta')\n",
    "shape_size_info(csv_data)\n",
    "\n",
    "printmd(\"Filtered CSV to Intensity > 0:\", 'color:magenta')\n",
    "shape_size_info(csv_data_mini)"
   ]
  },
  {
   "cell_type": "markdown",
   "metadata": {},
   "source": [
    "## Plot the timeseries data"
   ]
  },
  {
   "cell_type": "code",
   "execution_count": 12,
   "metadata": {
    "ExecuteTime": {
     "end_time": "2019-04-11T15:13:19.319346Z",
     "start_time": "2019-04-11T15:13:14.401430Z"
    }
   },
   "outputs": [
    {
     "data": {
      "text/markdown": [
       "<span style='color:blue'>Filtered Data: </span> "
      ],
      "text/plain": [
       "<IPython.core.display.Markdown object>"
      ]
     },
     "metadata": {},
     "output_type": "display_data"
    },
    {
     "name": "stderr",
     "output_type": "stream",
     "text": [
      "C:\\Users\\niraula\\AppData\\Local\\Continuum\\anaconda3\\lib\\site-packages\\scipy\\stats\\stats.py:1713: FutureWarning: Using a non-tuple sequence for multidimensional indexing is deprecated; use `arr[tuple(seq)]` instead of `arr[seq]`. In the future this will be interpreted as an array index, `arr[np.array(seq)]`, which will result either in an error or a different result.\n",
      "  return np.add.reduce(sorted[indexer] * weights, axis=axis) / sumval\n"
     ]
    },
    {
     "data": {
      "text/plain": [
       "<matplotlib.axes._subplots.AxesSubplot at 0x17ea1504940>"
      ]
     },
     "execution_count": 12,
     "metadata": {},
     "output_type": "execute_result"
    },
    {
     "data": {
      "image/png": "[encoded data removed]",
      "text/plain": [
       "<Figure size 720x360 with 1 Axes>"
      ]
     },
     "metadata": {},
     "output_type": "display_data"
    }
   ],
   "source": [
    "%matplotlib inline\n",
    "import matplotlib.pyplot as plt\n",
    "import seaborn as sns\n",
    "\n",
    "# set the background to be bit darker\n",
    "sns.set_style(\"darkgrid\")\n",
    "\n",
    "# to define the size of the figure\n",
    "from matplotlib import rcParams\n",
    "rcParams['figure.figsize'] = 10,5 # figure size in inches\n",
    "\n",
    "printmd(\"Filtered Data: \", \"color:blue\")\n",
    "sns.lineplot(data=csv_data_mini,x='DateTimeEST', y='Value')\n",
    "\n",
    "#printmd(\"All Data: \", \"color:blue\")\n",
    "#sns.lineplot(data=csv_data,x='DateTimeEST', y='Value')"
   ]
  }
 ],
 "metadata": {
  "kernelspec": {
   "display_name": "Python 3",
   "language": "python",
   "name": "python3"
  },
  "language_info": {
   "codemirror_mode": {
    "name": "ipython",
    "version": 3
   },
   "file_extension": ".py",
   "mimetype": "text/x-python",
   "name": "python",
   "nbconvert_exporter": "python",
   "pygments_lexer": "ipython3",
   "version": "3.7.3"
  },
  "toc": {
   "base_numbering": 1,
   "nav_menu": {},
   "number_sections": true,
   "sideBar": true,
   "skip_h1_title": false,
   "title_cell": "Table of Contents",
   "title_sidebar": "Contents",
   "toc_cell": false,
   "toc_position": {},
   "toc_section_display": true,
   "toc_window_display": true
  },
  "varInspector": {
   "cols": {
    "lenName": 16,
    "lenType": 16,
    "lenVar": 40
   },
   "kernels_config": {
    "python": {
     "delete_cmd_postfix": "",
     "delete_cmd_prefix": "del ",
     "library": "var_list.py",
     "varRefreshCmd": "print(var_dic_list())"
    },
    "r": {
     "delete_cmd_postfix": ") ",
     "delete_cmd_prefix": "rm(",
     "library": "var_list.r",
     "varRefreshCmd": "cat(var_dic_list()) "
    }
   },
   "oldHeight": 229,
   "position": {
    "height": "40px",
    "left": "1054px",
    "right": "20px",
    "top": "123px",
    "width": "350px"
   },
   "types_to_exclude": [
    "module",
    "function",
    "builtin_function_or_method",
    "instance",
    "_Feature"
   ],
   "varInspector_section_display": "none",
   "window_display": true
  }
 },
 "nbformat": 4,
 "nbformat_minor": 2
}
